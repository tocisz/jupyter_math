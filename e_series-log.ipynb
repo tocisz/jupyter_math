{
 "cells": [
  {
   "cell_type": "code",
   "execution_count": 1,
   "metadata": {},
   "outputs": [],
   "source": [
    "from ipycanvas import Canvas\n",
    "import math\n",
    "import cmath"
   ]
  },
  {
   "cell_type": "code",
   "execution_count": 2,
   "metadata": {},
   "outputs": [],
   "source": [
    "scale = 1 #cmath.pi"
   ]
  },
  {
   "cell_type": "code",
   "execution_count": 3,
   "metadata": {},
   "outputs": [],
   "source": [
    "N = 64\n",
    "points = list(map(lambda x: complex(0.5, (x/N)*scale), range(N)))\n",
    "args = list(map(lambda z: cmath.log(z), points))"
   ]
  },
  {
   "cell_type": "code",
   "execution_count": 4,
   "metadata": {},
   "outputs": [],
   "source": [
    "def scalex(x):\n",
    "    return 0+x*600\n",
    "\n",
    "def scaley(y):\n",
    "    return 1000-y*600\n",
    "\n",
    "def draw_points(canvas, pts):\n",
    "    prv = None\n",
    "    for p in pts:\n",
    "        canvas.fill_circle(scalex(p.real), scaley(p.imag), 1)\n",
    "        if prv != None:\n",
    "            canvas.stroke_line(scalex(prv.real), scaley(prv.imag), scalex(p.real), scaley(p.imag))\n",
    "        prv = p"
   ]
  },
  {
   "cell_type": "code",
   "execution_count": 5,
   "metadata": {},
   "outputs": [
    {
     "data": {
      "application/vnd.jupyter.widget-view+json": {
       "model_id": "877677186b05428fba6967356036d6cc",
       "version_major": 2,
       "version_minor": 0
      },
      "text/plain": [
       "Canvas(height=1200, width=800)"
      ]
     },
     "metadata": {},
     "output_type": "display_data"
    }
   ],
   "source": [
    "canvas = Canvas(width=800, height=1200)\n",
    "\n",
    "canvas.stroke_style='green'\n",
    "draw_points(canvas, args)\n",
    "\n",
    "canvas.stroke_style='blue'\n",
    "draw_points(canvas, points)\n",
    "\n",
    "display(canvas)"
   ]
  },
  {
   "cell_type": "code",
   "execution_count": 6,
   "metadata": {},
   "outputs": [],
   "source": [
    "def cpow(z,p):\n",
    "    if z == 0:\n",
    "        return 0\n",
    "    return cmath.exp(p*cmath.log(z))\n",
    "\n",
    "def e_series(z, i):\n",
    "    if i == 0:\n",
    "        return 1\n",
    "    else:\n",
    "        return cpow(z, i) / math.factorial(i)\n",
    "    \n",
    "def sum_series(ps):\n",
    "    sps = []\n",
    "    s = 0j\n",
    "    for pp in ps:\n",
    "        s += pp\n",
    "        sps.append(s)\n",
    "\n",
    "    return sps"
   ]
  },
  {
   "cell_type": "code",
   "execution_count": 7,
   "metadata": {},
   "outputs": [
    {
     "data": {
      "application/vnd.jupyter.widget-view+json": {
       "model_id": "642eaaf731c648a3bd2fd55c12ebd2bb",
       "version_major": 2,
       "version_minor": 0
      },
      "text/plain": [
       "Canvas(height=1200, width=800)"
      ]
     },
     "metadata": {},
     "output_type": "display_data"
    }
   ],
   "source": [
    "canvas = Canvas(width=800, height=1200)\n",
    "canvas.clear()\n",
    "\n",
    "canvas.stroke_style='blue'\n",
    "draw_points(canvas, points)\n",
    "\n",
    "canvas.stroke_style='red'\n",
    "for p in args:\n",
    "    ps = list(map(lambda i: e_series(p,i), range(20)))\n",
    "    sps = sum_series(ps)\n",
    "    \n",
    "    draw_points(canvas, sps)\n",
    "\n",
    "display(canvas)"
   ]
  }
 ],
 "metadata": {
  "kernelspec": {
   "display_name": "Python 3",
   "language": "python",
   "name": "python3"
  },
  "language_info": {
   "codemirror_mode": {
    "name": "ipython",
    "version": 3
   },
   "file_extension": ".py",
   "mimetype": "text/x-python",
   "name": "python",
   "nbconvert_exporter": "python",
   "pygments_lexer": "ipython3",
   "version": "3.7.6"
  }
 },
 "nbformat": 4,
 "nbformat_minor": 4
}
