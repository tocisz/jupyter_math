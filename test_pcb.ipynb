{
 "cells": [
  {
   "cell_type": "code",
   "execution_count": 10,
   "id": "de6609be",
   "metadata": {},
   "outputs": [
    {
     "data": {
      "text/plain": [
       "264.55026455026456"
      ]
     },
     "execution_count": 10,
     "metadata": {},
     "output_type": "execute_result"
    }
   ],
   "source": [
    "from PIL import Image, ImageDraw\n",
    "SIZE = (1440,2560)\n",
    "px2mm = 0.004725\n",
    "maxW = 2.5/2/px2mm\n",
    "offY = 50\n",
    "maxW"
   ]
  },
  {
   "cell_type": "code",
   "execution_count": 11,
   "id": "c38b072d",
   "metadata": {},
   "outputs": [],
   "source": [
    "im = Image.new(\"1\", SIZE)"
   ]
  },
  {
   "cell_type": "code",
   "execution_count": 12,
   "id": "7460e8b7",
   "metadata": {},
   "outputs": [],
   "source": [
    "draw = ImageDraw.Draw(im)\n",
    "for i in range(0, 40):\n",
    "    draw.rectangle((0,0) + SIZE, fill=0)\n",
    "    midx = SIZE[0]/2\n",
    "    y = (i+1)*10\n",
    "    draw.line((midx, offY, midx, y+offY), fill=1)\n",
    "    off = 2\n",
    "    width = 2\n",
    "    while off + width < maxW:\n",
    "        ox2 = off+width-1\n",
    "        draw.rectangle((midx+off, offY, midx+ox2, y+offY), fill=1)\n",
    "        draw.rectangle((midx-off, offY, midx-ox2, y+offY), fill=1)\n",
    "        width *= 2\n",
    "        off = off + width\n",
    "\n",
    "    im.save(f\"test_pcb/{i:03d}.png\")\n",
    "    "
   ]
  }
 ],
 "metadata": {
  "kernelspec": {
   "display_name": "newest",
   "language": "python",
   "name": "python3"
  },
  "language_info": {
   "codemirror_mode": {
    "name": "ipython",
    "version": 3
   },
   "file_extension": ".py",
   "mimetype": "text/x-python",
   "name": "python",
   "nbconvert_exporter": "python",
   "pygments_lexer": "ipython3",
   "version": "3.10.8"
  }
 },
 "nbformat": 4,
 "nbformat_minor": 5
}
