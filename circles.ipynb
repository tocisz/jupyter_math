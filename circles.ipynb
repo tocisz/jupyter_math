{
 "cells": [
  {
   "cell_type": "code",
   "execution_count": 31,
   "source": [
    "import math\r\n",
    "import cmath\r\n",
    "import drawSvg as draw"
   ],
   "outputs": [],
   "metadata": {}
  },
  {
   "cell_type": "markdown",
   "source": [
    "The idea is to have a mesh on a plane defined by a function that takes a point and returns other points in the neighbourhood.\r\n",
    "The function will be used to fill whole plane with a mesh."
   ],
   "metadata": {}
  },
  {
   "cell_type": "code",
   "execution_count": 21,
   "source": [
    "def genNeighbours(p: complex, distance: float):\r\n",
    "    result = []\r\n",
    "    d = complex(distance, 0)\r\n",
    "    rot = cmath.rect(1, cmath.pi/3)\r\n",
    "    result.append(p+d)\r\n",
    "    for i in range(1, 3): # to generate in all directions (1,6)\r\n",
    "        d *= rot\r\n",
    "        result.append(p+d)\r\n",
    "    return result\r\n",
    "\r\n",
    "# genNeighbours(0, 1)"
   ],
   "outputs": [],
   "metadata": {}
  },
  {
   "cell_type": "code",
   "execution_count": 22,
   "source": [
    "def draw_segments(d, pts, stroke='black'):\r\n",
    "    px_size = d.width/d.renderWidth\r\n",
    "    p = draw.Path(stroke_width=px_size, stroke=stroke, fill='none')\r\n",
    "    start = pts[0]\r\n",
    "    p.M(start.real, start.imag)\r\n",
    "    for z in pts[1:]:\r\n",
    "        p.L(z.real, z.imag)\r\n",
    "    d.append(p)"
   ],
   "outputs": [],
   "metadata": {}
  },
  {
   "cell_type": "code",
   "execution_count": 23,
   "source": [
    "def draw_points(d, pts, fill='black'):\r\n",
    "    px_size = d.width/d.renderWidth\r\n",
    "    for z in pts:\r\n",
    "        c = draw.Circle(z.real, z.imag, px_size, fill=fill)\r\n",
    "        d.append(c)"
   ],
   "outputs": [],
   "metadata": {}
  },
  {
   "cell_type": "code",
   "execution_count": 24,
   "source": [
    "def draw_circles(d, pts, stroke='black'):\r\n",
    "    px_size = d.width/d.renderWidth\r\n",
    "    for (z,r) in pts:\r\n",
    "        c = draw.Circle(z.real, z.imag, r, stroke_width=px_size, stroke=stroke, fill='none')\r\n",
    "        d.append(c)"
   ],
   "outputs": [],
   "metadata": {}
  },
  {
   "cell_type": "code",
   "execution_count": 25,
   "source": [
    "d = draw.Drawing(3, 3, origin='center', displayInline=False)\r\n",
    "d.setRenderSize(w=100)\r\n",
    "\r\n",
    "ngh = genNeighbours(0, 1)\r\n",
    "draw_points(d, ngh+[0])\r\n",
    "\r\n",
    "display(d)"
   ],
   "outputs": [
    {
     "output_type": "display_data",
     "data": {
      "text/html": [
       "<img src=\"data:image/svg+xml;base64,PD94bWwgdmVyc2lvbj0iMS4wIiBlbmNvZGluZz0iVVRGLTgiPz4KPHN2ZyB4bWxucz0iaHR0cDovL3d3dy53My5vcmcvMjAwMC9zdmciIHhtbG5zOnhsaW5rPSJodHRwOi8vd3d3LnczLm9yZy8xOTk5L3hsaW5rIgogICAgIHdpZHRoPSIxMDAiIGhlaWdodD0iMTAwLjAiIHZpZXdCb3g9Ii0xLjUgLTEuNSAzIDMiPgo8ZGVmcz4KPC9kZWZzPgo8Y2lyY2xlIGN4PSIxLjAiIGN5PSItMC4wIiByPSIwLjAzIiBmaWxsPSJibGFjayIgLz4KPGNpcmNsZSBjeD0iMC41MDAwMDAwMDAwMDAwMDAxIiBjeT0iLTAuODY2MDI1NDAzNzg0NDM4NiIgcj0iMC4wMyIgZmlsbD0iYmxhY2siIC8+CjxjaXJjbGUgY3g9Ii0wLjQ5OTk5OTk5OTk5OTk5OTgiIGN5PSItMC44NjYwMjU0MDM3ODQ0Mzg4IiByPSIwLjAzIiBmaWxsPSJibGFjayIgLz4KPGNpcmNsZSBjeD0iMCIgY3k9IjAiIHI9IjAuMDMiIGZpbGw9ImJsYWNrIiAvPgo8L3N2Zz4=\">"
      ],
      "text/plain": [
       "<drawSvg.drawing.Drawing at 0x213e0934f88>"
      ]
     },
     "metadata": {}
    }
   ],
   "metadata": {}
  },
  {
   "cell_type": "code",
   "execution_count": 26,
   "source": [
    "class RectArea:\r\n",
    "    def __init__(self, ld: complex, ru: complex):\r\n",
    "        self.ld = ld\r\n",
    "        self.ru = ru\r\n",
    "        \r\n",
    "    def isWithin(self, p: complex):\r\n",
    "        return self.ld.real <= p.real <= self.ru.real and self.ld.imag <= p.imag <= self.ru.imag\r\n",
    "\r\n",
    "# r = RectArea(0, 10+10j)\r\n",
    "# r.isWithin(10+10j)"
   ],
   "outputs": [],
   "metadata": {}
  },
  {
   "cell_type": "code",
   "execution_count": 27,
   "source": [
    "def closeEnough(p,q):\r\n",
    "    return abs(p-q) < 0.001\r\n",
    "\r\n",
    "def fillArea(r, gen, start):\r\n",
    "    ps = [start]\r\n",
    "    q = [start]\r\n",
    "    while q:\r\n",
    "        p = q.pop()\r\n",
    "        pg = [p for p in gen(p, 1) if r.isWithin(p) and not any(q for q in ps if closeEnough(p,q))]\r\n",
    "        ps += pg\r\n",
    "        q += pg\r\n",
    "    return ps\r\n",
    "    \r\n",
    "circle_mesh = fillArea(RectArea(0, 10+10j), genNeighbours, 0.5+0.5j)"
   ],
   "outputs": [],
   "metadata": {}
  },
  {
   "cell_type": "code",
   "execution_count": 28,
   "source": [
    "d = draw.Drawing(10, 10, origin=(0,0), displayInline=False)\r\n",
    "d.setRenderSize(w=600)\r\n",
    "\r\n",
    "cs = map(lambda c: (c, 0.5), circle_mesh)\r\n",
    "\r\n",
    "# draw_segments(d, circle_mesh, 'red')\r\n",
    "draw_circles(d, cs)\r\n",
    "\r\n",
    "display(d)"
   ],
   "outputs": [
    {
     "output_type": "display_data",
     "data": {
      "text/html": [
       "<img src=\"data:image/svg+xml;base64,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\">"
      ],
      "text/plain": [
       "<drawSvg.drawing.Drawing at 0x213de78cd88>"
      ]
     },
     "metadata": {}
    }
   ],
   "metadata": {}
  },
  {
   "cell_type": "code",
   "execution_count": 80,
   "source": [
    "k=20\r\n",
    "circle_points = []\r\n",
    "tmp = 1\r\n",
    "shift = 1j\r\n",
    "rotate = cmath.rect(1, 2*cmath.pi/k)\r\n",
    "for _ in range(0, k):\r\n",
    "    circle_points.append(tmp+shift)\r\n",
    "    tmp *= rotate\r\n",
    "\r\n",
    "d = draw.Drawing(2, 2, origin=(-1,0), displayInline=False)\r\n",
    "d.setRenderSize(w=200)\r\n",
    "draw_segments(d, circle_points)\r\n",
    "\r\n",
    "d"
   ],
   "outputs": [
    {
     "output_type": "execute_result",
     "data": {
      "text/html": [
       "<img src=\"data:image/svg+xml;base64,PD94bWwgdmVyc2lvbj0iMS4wIiBlbmNvZGluZz0iVVRGLTgiPz4KPHN2ZyB4bWxucz0iaHR0cDovL3d3dy53My5vcmcvMjAwMC9zdmciIHhtbG5zOnhsaW5rPSJodHRwOi8vd3d3LnczLm9yZy8xOTk5L3hsaW5rIgogICAgIHdpZHRoPSIyMDAiIGhlaWdodD0iMjAwLjAiIHZpZXdCb3g9Ii0xIC0yIDIgMiI+CjxkZWZzPgo8L2RlZnM+CjxwYXRoIGQ9Ik0xLjAsLTEuMCBMMC45NTEwNTY1MTYyOTUxNTM1LC0xLjMwOTAxNjk5NDM3NDk0NzUgTDAuODA5MDE2OTk0Mzc0OTQ3MywtMS41ODc3ODUyNTIyOTI0NzMgTDAuNTg3Nzg1MjUyMjkyNDczMSwtMS44MDkwMTY5OTQzNzQ5NDcyIEwwLjMwOTAxNjk5NDM3NDk0NzU2LC0xLjk1MTA1NjUxNjI5NTE1MzQgTDEuNjY1MzM0NTM2OTM3NzM0OGUtMTYsLTEuOTk5OTk5OTk5OTk5OTk5OCBMLTAuMzA5MDE2OTk0Mzc0OTQ3MiwtMS45NTEwNTY1MTYyOTUxNTMyIEwtMC41ODc3ODUyNTIyOTI0NzI3LC0xLjgwOTAxNjk5NDM3NDk0NzIgTC0wLjgwOTAxNjk5NDM3NDk0NjksLTEuNTg3Nzg1MjUyMjkyNDczMSBMLTAuOTUxMDU2NTE2Mjk1MTUzLC0xLjMwOTAxNjk5NDM3NDk0NzcgTC0wLjk5OTk5OTk5OTk5OTk5OTQsLTEuMDAwMDAwMDAwMDAwMDAwNCBMLTAuOTUxMDU2NTE2Mjk1MTUzMSwtMC42OTA5ODMwMDU2MjUwNTMyIEwtMC44MDkwMTY5OTQzNzQ5NDcxLC0wLjQxMjIxNDc0NzcwNzUyNzY0IEwtMC41ODc3ODUyNTIyOTI0NzMxLC0wLjE5MDk4MzAwNTYyNTA1MzQ0IEwtMC4zMDkwMTY5OTQzNzQ5NDc3MywtMC4wNDg5NDM0ODM3MDQ4NDcyNDYgTC01LjU1MTExNTEyMzEyNTc4M2UtMTYsLTYuNjYxMzM4MTQ3NzUwOTM5ZS0xNiBMMC4zMDkwMTY5OTQzNzQ5NDY2LC0wLjA0ODk0MzQ4MzcwNDg0NjkxIEwwLjU4Nzc4NTI1MjI5MjQ3MjIsLTAuMTkwOTgzMDA1NjI1MDUyODggTDAuODA5MDE2OTk0Mzc0OTQ2NSwtMC40MTIyMTQ3NDc3MDc1MjY4NiBMMC45NTEwNTY1MTYyOTUxNTI1LC0wLjY5MDk4MzAwNTYyNTA1MjIiIHN0cm9rZS13aWR0aD0iMC4wMSIgc3Ryb2tlPSJibGFjayIgZmlsbD0ibm9uZSIgLz4KPC9zdmc+\">"
      ],
      "text/plain": [
       "<drawSvg.drawing.Drawing at 0x213e09dca48>"
      ]
     },
     "metadata": {},
     "execution_count": 80
    }
   ],
   "metadata": {}
  },
  {
   "cell_type": "code",
   "execution_count": 76,
   "source": [
    "def conjugate(z):\r\n",
    "    return complex(z.real, -z.imag)\r\n",
    "\r\n",
    "def homography(z, p, q):\r\n",
    "    return (z-p)/(z-q)\r\n",
    "\r\n",
    "def homo_to_circle(z, a):\r\n",
    "    return homography(z, a, conjugate(a))"
   ],
   "outputs": [],
   "metadata": {}
  },
  {
   "cell_type": "markdown",
   "source": [
    "Below we use homography that maps entire part of a complex plane where $im(z) \\ge 0$ to a circle. What's interesting is that circles are mapped into circles\r\n",
    "by every homography.\r\n",
    "\r\n",
    "We use this homography to transform line of segments that approximates a circle. As a result we see other approximation of a circle.\r\n",
    "Please note that while segments in the original approximation were evenly spaced that is not the case in the transformed figure."
   ],
   "metadata": {}
  },
  {
   "cell_type": "code",
   "execution_count": 97,
   "source": [
    "mapped_circle_points = list(map(lambda z: homo_to_circle(z, 1+1j), circle_points))\r\n",
    "\r\n",
    "d = draw.Drawing(2, 2, origin=(-1,-1), displayInline=False)\r\n",
    "d.setRenderSize(w=200)\r\n",
    "draw_segments(d, mapped_circle_points)\r\n",
    "draw_circles(d, [(0,1)], stroke='red')\r\n",
    "\r\n",
    "d"
   ],
   "outputs": [
    {
     "output_type": "execute_result",
     "data": {
      "text/html": [
       "<img src=\"data:image/svg+xml;base64,PD94bWwgdmVyc2lvbj0iMS4wIiBlbmNvZGluZz0iVVRGLTgiPz4KPHN2ZyB4bWxucz0iaHR0cDovL3d3dy53My5vcmcvMjAwMC9zdmciIHhtbG5zOnhsaW5rPSJodHRwOi8vd3d3LnczLm9yZy8xOTk5L3hsaW5rIgogICAgIHdpZHRoPSIyMDAiIGhlaWdodD0iMjAwLjAiIHZpZXdCb3g9Ii0xIC0xIDIgMiI+CjxkZWZzPgo8L2RlZnM+CjxwYXRoIGQ9Ik0wLjAsLTAuMCBMMC4xMzQyMTk1MzU3MDE3MDk0LC0wLjAxODM1MTY2NzQ2MjY0MTg0NyBMMC4yMzEzMjUwNzkzNTk1NTc3LC0wLjA1NjcyOTUzMjE1OTc3MjM3IEwwLjMwMzAxNjQ2OTE5MDkxNDg1LC0wLjEwMjI4MDIyNTAzMzkxNzUyIEwwLjM1NzUwMTY3Mzg3MjczMjI0LC0wLjE1MDQzOTQ4NTY3MDY1NzM1IEwwLjM5OTk5OTk5OTk5OTk5OTk3LC0wLjE5OTk5OTk5OTk5OTk5OTk4IEwwLjQzMzcwMTIzMTU4OTkzMDg1LC0wLjI1MTE5NjM3OTIxMTY4MjE0IEwwLjQ2MDQwODI3MzA2NzAyNzM2LC0wLjMwNTAwMTk5NDY0NzU0MTUgTDAuNDgwODQyNjQ2ODkyNTU1OCwtMC4zNjI5MjIxMDYzNDMyODgxNCBMMC40OTQ2NDQwNjcxNjcxMDg1LC0wLjQyNzAxMjAwOTA5NDc3NjU1IEwwLjQ5OTk5OTk5OTk5OTk5OTksLTAuNDk5OTk5OTk5OTk5OTk5OSBMMC40OTI2NTc3OTI4NDQxMjg1LC0wLjU4NTM3MTUzNTk0NzAwOTcgTDAuNDYzNzM4OTYyMTYxMjc3MjUsLTAuNjg2OTM4OTYwNTU1NTI3OCBMMC4zOTUzNjM3NTU5ODg2MjA4LC0wLjgwNjA4NDEzOTQ5NTI4NjMgTDAuMjU0NDMxMzUyNjc0MzY4NDUsLTAuOTMwNDIzODQ1NTAxNDkwMyBMNC40NDA4OTIwOTg1MDA2MjRlLTE2LC0wLjk5OTk5OTk5OTk5OTk5OTMgTC0wLjMyOTY3ODU1MjMwODk1NiwtMC44NzU5MTQ5NTMzNDM3OTg0IEwtMC40OTk2MzcxOTQ5MjMwMTE3LC0wLjUxOTA0Mzk4NzIyNTk4MzkgTC0wLjM5MDc3OTM1OTM4NDQ1NTMsLTAuMTg4MDg0MTU4MzM5MDI1NzUgTC0wLjE4MTc1Mzk5MDQ0MjQ4MzYsLTAuMDM0MjA0NDU3OTg4MDIxMzQ2IiBzdHJva2Utd2lkdGg9IjAuMDEiIHN0cm9rZT0iYmxhY2siIGZpbGw9Im5vbmUiIC8+CjxjaXJjbGUgY3g9IjAiIGN5PSIwIiByPSIxIiBzdHJva2Utd2lkdGg9IjAuMDEiIHN0cm9rZT0icmVkIiBmaWxsPSJub25lIiAvPgo8L3N2Zz4=\">"
      ],
      "text/plain": [
       "<drawSvg.drawing.Drawing at 0x213e09dcd08>"
      ]
     },
     "metadata": {},
     "execution_count": 97
    }
   ],
   "metadata": {}
  },
  {
   "cell_type": "markdown",
   "source": [
    "A circle is defined by $|z - z_0| = R$. Solve it for three distinct points of the circle given."
   ],
   "metadata": {}
  },
  {
   "cell_type": "code",
   "execution_count": 98,
   "source": [
    "# https://github.com/peawormsworth/tools/blob/master/three_point_circle/three_point_circle.py\r\n",
    "def three_point_circle(z1,z2,z3):\r\n",
    "    a = 1j*(z1-z2)\r\n",
    "    b = 1j*(z3-z2)\r\n",
    "    if a.real:\r\n",
    "        m1 = a.imag/a.real\r\n",
    "        c = (z1-z2)/2\r\n",
    "        p1 = z2+c\r\n",
    "        b1 = p1.imag-m1*p1.real\r\n",
    "    if b.real:\r\n",
    "        m2 = b.imag/b.real\r\n",
    "        d = (z3-z2)/2\r\n",
    "        p2 = z2+d\r\n",
    "        b2 = p2.imag-m2*p2.real\r\n",
    "    if a.real and b.real:\r\n",
    "        x = (b2-b1)/(m1-m2)\r\n",
    "        y = (m2*b1-m1*b2)/(m2-m1)\r\n",
    "    elif a.real:\r\n",
    "        x,y = 0,b1\r\n",
    "    elif b.real:\r\n",
    "        x,y = 0,b2\r\n",
    "    else:\r\n",
    "        x,y = 0,0\r\n",
    "    center = x+1j*y\r\n",
    "    radius = abs(center-z1)\r\n",
    "    return x,y,radius"
   ],
   "outputs": [],
   "metadata": {}
  },
  {
   "cell_type": "markdown",
   "source": [
    "Just to prove that it works: take `circle_mesh` defined above and transform it to a list of 3-points. Than convert it back."
   ],
   "metadata": {}
  },
  {
   "cell_type": "code",
   "execution_count": 99,
   "source": [
    "# TODO"
   ],
   "outputs": [],
   "metadata": {}
  }
 ],
 "metadata": {
  "kernelspec": {
   "name": "python3",
   "display_name": "Python 3.7.6 64-bit ('base': conda)"
  },
  "language_info": {
   "codemirror_mode": {
    "name": "ipython",
    "version": 3
   },
   "file_extension": ".py",
   "mimetype": "text/x-python",
   "name": "python",
   "nbconvert_exporter": "python",
   "pygments_lexer": "ipython3",
   "version": "3.7.6"
  },
  "interpreter": {
   "hash": "016d790bcfa28814313600010fb9c4f68d103a40a98294416724fa9e2e5130b9"
  }
 },
 "nbformat": 4,
 "nbformat_minor": 4
}