{
 "cells": [
  {
   "cell_type": "code",
   "execution_count": 1,
   "metadata": {},
   "outputs": [],
   "source": [
    "from PIL import Image\n",
    "import numpy as np"
   ]
  },
  {
   "cell_type": "code",
   "execution_count": 2,
   "metadata": {},
   "outputs": [],
   "source": [
    "LAYERS = int(256/8)"
   ]
  },
  {
   "cell_type": "code",
   "execution_count": 3,
   "metadata": {},
   "outputs": [],
   "source": [
    "im = Image.open(\"C:\\\\Users\\\\tcich\\\\Pictures\\\\czekolada.png\")"
   ]
  },
  {
   "cell_type": "code",
   "execution_count": 4,
   "metadata": {},
   "outputs": [],
   "source": [
    "l1 = np.array(im.getchannel(0))\n",
    "l1 = 255 - l1\n",
    "l2 = l1.copy()\n",
    "for j in range(0,LAYERS):\n",
    "    l1small = l1 < 8\n",
    "    l1big = np.logical_not(l1small)\n",
    "    l2[l1big] = 255\n",
    "    l2[l1small] = l1[l1small]*32\n",
    "    l1[l1small] = 0\n",
    "    l1[l1big] = l1[l1big]-8\n",
    "    newim = Image.fromarray(l2)\n",
    "    newim.save(f\"C:\\\\Users\\\\tcich\\\\Pictures\\\\czekolada {j}.png\")"
   ]
  }
 ],
 "metadata": {
  "kernelspec": {
   "display_name": "Python 3 (ipykernel)",
   "language": "python",
   "name": "python3"
  },
  "language_info": {
   "codemirror_mode": {
    "name": "ipython",
    "version": 3
   },
   "file_extension": ".py",
   "mimetype": "text/x-python",
   "name": "python",
   "nbconvert_exporter": "python",
   "pygments_lexer": "ipython3",
   "version": "3.7.6"
  }
 },
 "nbformat": 4,
 "nbformat_minor": 4
}
